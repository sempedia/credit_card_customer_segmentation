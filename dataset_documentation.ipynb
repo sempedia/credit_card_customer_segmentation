{
 "cells": [
  {
   "cell_type": "markdown",
   "id": "d19b4938",
   "metadata": {},
   "source": [
    "# Credit Card Customer Dataset Documentation\n",
    "\n",
    "This notebook provides a comprehensive overview of the credit card customer dataset through visualizations and descriptive statistics."
   ]
  },
  {
   "cell_type": "code",
   "execution_count": null,
   "id": "2e498941",
   "metadata": {},
   "outputs": [],
   "source": [
    "import pandas as pd\n",
    "import numpy as np\n",
    "import matplotlib.pyplot as plt\n",
    "import seaborn as sns\n",
    "\n",
    "# Set style for better visualizations\n",
    "plt.style.use('seaborn')\n",
    "sns.set_palette('Set2')\n",
    "%matplotlib inline"
   ]
  },
  {
   "cell_type": "code",
   "execution_count": null,
   "id": "e5d829a5",
   "metadata": {},
   "outputs": [],
   "source": [
    "# Load the dataset\n",
    "df = pd.read_csv('customer_segmentation.csv')\n",
    "\n",
    "# Display basic information\n",
    "print(\"Dataset Shape:\", df.shape)\n",
    "print(\"\\nColumn Types:\")\n",
    "df.info()"
   ]
  },
  {
   "cell_type": "markdown",
   "id": "5f64d486",
   "metadata": {},
   "source": [
    "## Dataset Column Descriptions\n",
    "\n",
    "### Demographic Information\n",
    "- **customer_id**: Unique identifier for each customer\n",
    "- **age**: Customer's age in years (22-50)\n",
    "- **gender**: Customer's gender (M/F)\n",
    "- **dependent_count**: Number of dependents (0-4)\n",
    "- **education_level**: Education level achieved\n",
    "  - Categories: Uneducated, High School, College, Graduate, Post-Graduate, Doctorate\n",
    "- **marital_status**: Current marital status\n",
    "  - Categories: Single, Married, Divorced, Unknown\n",
    "- **estimated_income**: Projected annual income (25,000-150,000 USD)\n",
    "\n",
    "### Account Behavior\n",
    "- **months_on_book**: Customer tenure in months (12-72)\n",
    "- **total_relationship_count**: Number of bank contacts (1-5)\n",
    "- **months_inactive_12_mon**: Inactivity periods (1-4)\n",
    "\n",
    "### Transaction Patterns\n",
    "- **total_trans_amount**: Total transaction value (300.00-5200.25 USD)\n",
    "- **total_trans_count**: Number of transactions (10-50)\n",
    "- **avg_utilization_ratio**: Card utilization ratio (0.36-0.57)"
   ]
  },
  {
   "cell_type": "code",
   "execution_count": null,
   "id": "b46ff391",
   "metadata": {},
   "outputs": [],
   "source": [
    "# Display summary statistics\n",
    "print(\"Summary Statistics for Numerical Variables:\")\n",
    "df.describe()"
   ]
  },
  {
   "cell_type": "code",
   "execution_count": null,
   "id": "b481f13e",
   "metadata": {},
   "outputs": [],
   "source": [
    "# Visualize distributions of numerical variables\n",
    "numeric_cols = df.select_dtypes(include=['int64', 'float64']).columns\n",
    "numeric_cols = [col for col in numeric_cols if col != 'customer_id']\n",
    "\n",
    "fig, axes = plt.subplots(3, 3, figsize=(15, 15))\n",
    "axes = axes.ravel()\n",
    "\n",
    "for idx, col in enumerate(numeric_cols):\n",
    "    if idx < len(axes):\n",
    "        sns.histplot(data=df, x=col, ax=axes[idx], kde=True)\n",
    "        axes[idx].set_title(f'Distribution of {col}')\n",
    "        if col in ['estimated_income', 'total_trans_amount']:\n",
    "            axes[idx].set_xlabel(f'{col} (USD)')\n",
    "\n",
    "plt.tight_layout()\n",
    "plt.show()"
   ]
  },
  {
   "cell_type": "code",
   "execution_count": null,
   "id": "bebf756f",
   "metadata": {},
   "outputs": [],
   "source": [
    "# Visualize categorical variables\n",
    "fig, axes = plt.subplots(1, 3, figsize=(15, 5))\n",
    "\n",
    "# Gender distribution\n",
    "sns.countplot(data=df, x='gender', ax=axes[0])\n",
    "axes[0].set_title('Gender Distribution')\n",
    "\n",
    "# Education level distribution\n",
    "sns.countplot(data=df, x='education_level', ax=axes[1])\n",
    "axes[1].set_title('Education Level Distribution')\n",
    "axes[1].tick_params(axis='x', rotation=45)\n",
    "\n",
    "# Marital status distribution\n",
    "sns.countplot(data=df, x='marital_status', ax=axes[2])\n",
    "axes[2].set_title('Marital Status Distribution')\n",
    "axes[2].tick_params(axis='x', rotation=45)\n",
    "\n",
    "plt.tight_layout()\n",
    "plt.show()"
   ]
  },
  {
   "cell_type": "code",
   "execution_count": null,
   "id": "d76d4fef",
   "metadata": {},
   "outputs": [],
   "source": [
    "# Create correlation heatmap\n",
    "plt.figure(figsize=(12, 8))\n",
    "correlation_matrix = df.select_dtypes(include=['int64', 'float64']).drop('customer_id', axis=1).corr()\n",
    "sns.heatmap(correlation_matrix, annot=True, cmap='coolwarm', center=0)\n",
    "plt.title('Correlation Matrix of Numerical Variables')\n",
    "plt.tight_layout()\n",
    "plt.show()"
   ]
  },
  {
   "cell_type": "markdown",
   "id": "2a15a4e2",
   "metadata": {},
   "source": [
    "## Key Insights\n",
    "\n",
    "1. **Education Distribution**:\n",
    "   - Full range from Uneducated to Doctorate level\n",
    "   - Graduate and Post-Graduate levels most common\n",
    "   - Clear correlation with income levels\n",
    "\n",
    "2. **Marital Status Patterns**:\n",
    "   - Balanced distribution across categories\n",
    "   - 'Unknown' status present for privacy considerations\n",
    "   - Correlations with age and income visible\n",
    "\n",
    "3. **Financial Behavior**:\n",
    "   - Transaction amounts vary significantly\n",
    "   - Credit utilization stays below 60%\n",
    "   - Most customers maintain regular activity\n",
    "\n",
    "4. **Customer Engagement**:\n",
    "   - Tenure ranges from 1-6 years\n",
    "   - Most customers have multiple bank interactions\n",
    "   - Low inactivity periods overall"
   ]
  }
 ],
 "metadata": {
  "language_info": {
   "name": "python"
  }
 },
 "nbformat": 4,
 "nbformat_minor": 5
}
